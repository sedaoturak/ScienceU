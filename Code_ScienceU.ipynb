{
  "cells": [
    {
      "cell_type": "markdown",
      "source": [
        "# **SCIENCE-U: Exploring sustainable fuel options with computer simulations**\n",
        "\n",
        "![image.png](https://ecos-appdev-production.s3.amazonaws.com/science_site/s3fs-public/inline-images/OutreachSciUBanner2TransparentBackground_0.png)"
      ],
      "metadata": {
        "id": "DNDhYg7AocqM"
      }
    },
    {
      "cell_type": "markdown",
      "source": [
        "# Authors: Seda Oturak and Simon Gelin\n",
        "\n",
        "© [MOSAIC - Dabo Research Group, Pennsylvania State University](http://dabo.matse.psu.edu) (2023)"
      ],
      "metadata": {
        "id": "-fhKfH8DY9U0"
      }
    },
    {
      "cell_type": "markdown",
      "metadata": {
        "id": "ztVba5sDIORp"
      },
      "source": [
        "# Install simulation environment and simulation code"
      ]
    },
    {
      "cell_type": "code",
      "source": [
        "# install ASE (the atomic simulation environment) using Linux\n",
        "!apt install ase\n",
        "\n",
        "# install GPAW (the simulation code) using Linux\n",
        "!apt install python3-mpi4py cython3 libxc-dev gpaw-data\n",
        "!pip -q install gpaw pymatgen==2023.5.10"
      ],
      "metadata": {
        "id": "JKlzDUWKCY85"
      },
      "execution_count": null,
      "outputs": []
    },
    {
      "cell_type": "code",
      "source": [
        "# import tools from ASE\n",
        "from ase import Atoms, Atom\n",
        "from ase.build import molecule as ase_molecule\n",
        "from ase.data.pubchem import pubchem_atoms_search\n",
        "from ase.visualize import view\n",
        "\n",
        "# import tools from GPAW\n",
        "from gpaw import GPAW, PW\n",
        "\n",
        "# import tools for plotting\n",
        "import matplotlib.pyplot as plt\n",
        "import plotly.graph_objects as go\n",
        "\n",
        "# import tools for numerical calculations\n",
        "import numpy as np"
      ],
      "metadata": {
        "id": "Wl8QUrGa-8nd"
      },
      "execution_count": null,
      "outputs": []
    },
    {
      "cell_type": "markdown",
      "source": [
        "# 1. Create the molecule &#129337;"
      ],
      "metadata": {
        "id": "HhWcJodnoLuu"
      }
    },
    {
      "cell_type": "code",
      "source": [
        "\"\"\"\n",
        "define molecule using the PubChem database of the National Library of Medecine\n",
        "\n",
        "methane         = 297\n",
        "propane         = 6334\n",
        "ethanol         = 702\n",
        "octane          = 10907\n",
        "oxygen          = 977\n",
        "carbon dioxide  = 280\n",
        "water           = 962\n",
        "hydrogen        = n/a   (type the command \"molecule = ase_molecule('H2')\"\n",
        "                        instead of \"molecule = pubchem_atoms_search(cid=XXX)\")\n",
        "\n",
        "\"\"\"\n",
        "molecule = pubchem_atoms_search(cid=297)\n",
        "molecule.set_cell([7, 7, 7], scale_atoms=False)"
      ],
      "metadata": {
        "id": "Kir7lqC1Gqyh"
      },
      "execution_count": null,
      "outputs": []
    },
    {
      "cell_type": "markdown",
      "source": [
        "# 2. Visualize the molecule &#x1F50D;"
      ],
      "metadata": {
        "id": "8dggTyxNpRFW"
      }
    },
    {
      "cell_type": "code",
      "source": [
        "# show molecule\n",
        "view(molecule, viewer='x3d', block=True)"
      ],
      "metadata": {
        "id": "JGEaFxYqFeTa"
      },
      "execution_count": null,
      "outputs": []
    },
    {
      "cell_type": "markdown",
      "source": [
        "# 3. Calculate the energy of the molecule &#x1F4BB;"
      ],
      "metadata": {
        "id": "ULsbgd3-r0da"
      }
    },
    {
      "cell_type": "code",
      "source": [
        "# set simulation parameters\n",
        "calc = GPAW(xc='PBE',\n",
        "            kpts=(1,1,1),\n",
        "            mode=PW(700),\n",
        "            basis='dzp')\n",
        "molecule.center()\n",
        "molecule.set_calculator(calc)\n",
        "\n",
        "# run computer simulation (using quantum mechanics to compute the electron cloud)\n",
        "energy = molecule.get_total_energy()\n",
        "\n",
        "print(\"*****\")\n",
        "print(\" The energy of the molecule is \"+str(energy)+\" eV\")\n",
        "print(\"*****\")"
      ],
      "metadata": {
        "id": "qcYH-7thG6_Q"
      },
      "execution_count": null,
      "outputs": []
    },
    {
      "cell_type": "markdown",
      "source": [
        "# 4. Visualize the electron cloud of the molecule &#x269B;"
      ],
      "metadata": {
        "id": "zbzZ4hq1gzZo"
      }
    },
    {
      "cell_type": "code",
      "source": [
        "# convert electron cloud\n",
        "n = calc.get_all_electron_density(gridrefinement=4)\n",
        "nred = n[::3,::3,::3]\n",
        "X, Y, Z = np.mgrid[0:7:60j, 0:7:60j, 0:7:60j]\n",
        "\n",
        "# show electron cloud\n",
        "fig = go.Figure(data=go.Isosurface(\n",
        "    x=X.flatten(),\n",
        "    y=Y.flatten(),\n",
        "    z=Z.flatten(),\n",
        "    value=nred.flatten(),\n",
        "    isomin=0.1,\n",
        "    isomax=1,\n",
        "    surface_count=5,\n",
        "    colorbar_nticks=5,\n",
        "    caps=dict(x_show=False, y_show=False),\n",
        "    opacity=0.3\n",
        "    ))\n",
        "\n",
        "fig.show()"
      ],
      "metadata": {
        "id": "nbY4CAsTNdeF"
      },
      "execution_count": null,
      "outputs": []
    }
  ],
  "metadata": {
    "colab": {
      "provenance": [],
      "toc_visible": true
    },
    "gpuClass": "standard",
    "kernelspec": {
      "display_name": "Python 3",
      "name": "python3"
    }
  },
  "nbformat": 4,
  "nbformat_minor": 0
}