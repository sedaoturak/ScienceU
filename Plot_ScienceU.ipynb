{
  "cells": [
    {
      "cell_type": "code",
      "source": [
        "import numpy as np\n",
        "import matplotlib.pyplot as plt"
      ],
      "metadata": {
        "id": "hERy4Vkdr0KE"
      },
      "execution_count": null,
      "outputs": []
    },
    {
      "cell_type": "code",
      "source": [
        "# store results\n",
        "fuel_names = ['hydrogen',' methane',' propane',' ethanol',' octane']\n",
        "fuel_masses = np.array([ ___ , ___ , ___ , ___ , ___ ])             # in g per molecule\n",
        "combustion_energies = np.array([ ___ , ___ , ___ , ___ , ___ ])     # in eV\n",
        "carbon_content = np.array([ ___ , ___ , ___ , ___ , ___ ])          # in number of CO2\n",
        "\n",
        "# plot results\n",
        "fig, ax = plt.subplots()\n",
        "xs = carbon_content/fuel_masses/6.02e23 # in mol per gram\n",
        "ys = combustion_energies/fuel_masses*1.6e-19/4.184 # in J per gram\n",
        "ax.scatter(xs, ys)\n",
        "\n",
        "# add labels\n",
        "for x, y, fuel_name in zip(xs, ys, fuel_names):\n",
        "  ax.text(x, y, '  '+fuel_name, horizontalalignment = 'left', verticalalignment = 'center')\n",
        "ax.set_ylabel('energy content per gram (cal/g)')\n",
        "ax.set_xlabel('carbon content per gram (mol CO$_2$/g)')\n",
        "ax.set_aspect(1.0/ax.get_data_ratio(), adjustable='box')\n",
        "\n",
        "fig.show()"
      ],
      "metadata": {
        "id": "VE4tUESGrAfh"
      },
      "execution_count": null,
      "outputs": []
    }
  ],
  "metadata": {
    "colab": {
      "provenance": [],
      "toc_visible": true
    },
    "gpuClass": "standard",
    "kernelspec": {
      "display_name": "Python 3",
      "name": "python3"
    }
  },
  "nbformat": 4,
  "nbformat_minor": 0
}